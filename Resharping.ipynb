{
  "nbformat": 4,
  "nbformat_minor": 0,
  "metadata": {
    "colab": {
      "provenance": [],
      "authorship_tag": "ABX9TyPStpZ6qhRHYrBIDVO53/gE",
      "include_colab_link": true
    },
    "kernelspec": {
      "name": "python3",
      "display_name": "Python 3"
    },
    "language_info": {
      "name": "python"
    }
  },
  "cells": [
    {
      "cell_type": "markdown",
      "metadata": {
        "id": "view-in-github",
        "colab_type": "text"
      },
      "source": [
        "<a href=\"https://colab.research.google.com/github/AliGhorbanibh1380/Exercise/blob/main/Resharping.ipynb\" target=\"_parent\"><img src=\"https://colab.research.google.com/assets/colab-badge.svg\" alt=\"Open In Colab\"/></a>"
      ]
    },
    {
      "cell_type": "markdown",
      "source": [
        "**Reshaping**"
      ],
      "metadata": {
        "id": "U5KxqvETNM7j"
      }
    },
    {
      "cell_type": "markdown",
      "source": [
        "1.Initial Array Creation:"
      ],
      "metadata": {
        "id": "gRY0OTPJNUxd"
      }
    },
    {
      "cell_type": "code",
      "source": [
        "import numpy as np\n",
        "x = np.array([[0., 1.], [2., 3.], [4., 5.]])\n",
        "x.shape"
      ],
      "metadata": {
        "colab": {
          "base_uri": "https://localhost:8080/"
        },
        "id": "NDCZyfaNNbaw",
        "outputId": "43692181-863d-4c24-adbd-85660615ce0b"
      },
      "execution_count": null,
      "outputs": [
        {
          "output_type": "execute_result",
          "data": {
            "text/plain": [
              "(3, 2)"
            ]
          },
          "metadata": {},
          "execution_count": 5
        }
      ]
    },
    {
      "cell_type": "markdown",
      "source": [
        "create a 2D NumPy array (3 rows, 2 columns)."
      ],
      "metadata": {
        "id": "H47es3IwNe8z"
      }
    },
    {
      "cell_type": "markdown",
      "source": [
        "#1.First Reshape:\n",
        "\n",
        "-The original array has 6 elements (0, 1, 2, 3, 4, 5) and is reshaped into an array with 6 rows and 1 column.\n",
        "\n",
        "-This transformation is valid because the total number of elements remains the same."
      ],
      "metadata": {
        "id": "Bgo5iv9LOOPT"
      }
    },
    {
      "cell_type": "code",
      "source": [
        "x = x.reshape((6, 1))\n",
        "x"
      ],
      "metadata": {
        "colab": {
          "base_uri": "https://localhost:8080/"
        },
        "id": "RT2KpMbbOV_H",
        "outputId": "908e840d-9ccf-4141-c4d5-d0bc93edb8d2"
      },
      "execution_count": null,
      "outputs": [
        {
          "output_type": "execute_result",
          "data": {
            "text/plain": [
              "array([[0.],\n",
              "       [1.],\n",
              "       [2.],\n",
              "       [3.],\n",
              "       [4.],\n",
              "       [5.]])"
            ]
          },
          "metadata": {},
          "execution_count": 6
        }
      ]
    },
    {
      "cell_type": "markdown",
      "source": [
        "#3.Second Reshape:\n",
        "\n",
        "-reshape the array into 2 rows and 3 columns.\n",
        "\n",
        "-The data is filled in column-major order (i.e., down columns)."
      ],
      "metadata": {
        "id": "efmfbg-eOdgb"
      }
    },
    {
      "cell_type": "code",
      "source": [
        "x = x.reshape((2, 3))\n",
        "x"
      ],
      "metadata": {
        "colab": {
          "base_uri": "https://localhost:8080/"
        },
        "id": "8Btd4MUWOocH",
        "outputId": "5a2f432c-1a02-4a36-a78c-104402af2780"
      },
      "execution_count": null,
      "outputs": [
        {
          "output_type": "execute_result",
          "data": {
            "text/plain": [
              "array([[0., 1., 2.],\n",
              "       [3., 4., 5.]])"
            ]
          },
          "metadata": {},
          "execution_count": 7
        }
      ]
    },
    {
      "cell_type": "markdown",
      "source": [
        "#4.Array of Zeros Creation:\n",
        "\n",
        "Creates a new 2D array of zeros with shape (300, 20)."
      ],
      "metadata": {
        "id": "PWnjJ8toOv7X"
      }
    },
    {
      "cell_type": "code",
      "source": [
        "x = np.zeros((300, 20))\n",
        "x.shape"
      ],
      "metadata": {
        "colab": {
          "base_uri": "https://localhost:8080/"
        },
        "id": "Y7sr24tlPMCe",
        "outputId": "ff3b3dcd-d669-46a9-e548-1644813ee478"
      },
      "execution_count": null,
      "outputs": [
        {
          "output_type": "execute_result",
          "data": {
            "text/plain": [
              "(300, 20)"
            ]
          },
          "metadata": {},
          "execution_count": 12
        }
      ]
    },
    {
      "cell_type": "markdown",
      "source": [
        "5.Transposition:\n",
        "This transposes the zero array, changing its shape from (300, 20) to (20, 300)."
      ],
      "metadata": {
        "id": "qDoj1XrTPW1M"
      }
    },
    {
      "cell_type": "code",
      "source": [
        "x = np.transpose(x)\n",
        "x.shape"
      ],
      "metadata": {
        "colab": {
          "base_uri": "https://localhost:8080/"
        },
        "id": "KUvqYaZ9Pdgt",
        "outputId": "b0cfaf67-6f82-49f8-db51-943eb4086ec0"
      },
      "execution_count": null,
      "outputs": [
        {
          "output_type": "execute_result",
          "data": {
            "text/plain": [
              "(20, 300)"
            ]
          },
          "metadata": {},
          "execution_count": 11
        }
      ]
    },
    {
      "cell_type": "markdown",
      "source": [
        "#Summary\n",
        "creating and reshaping NumPy arrays, demonstrating how to change array dimensions while maintaining the total number of elements.\n",
        "also transposing an array of zeros, effectively switching its rows and columns."
      ],
      "metadata": {
        "id": "u7smSLExPnSW"
      }
    }
  ]
}