{
  "nbformat": 4,
  "nbformat_minor": 0,
  "metadata": {
    "colab": {
      "provenance": [],
      "authorship_tag": "ABX9TyPOssAo5tHLx461JF78ghw8",
      "include_colab_link": true
    },
    "kernelspec": {
      "name": "python3",
      "display_name": "Python 3"
    },
    "language_info": {
      "name": "python"
    }
  },
  "cells": [
    {
      "cell_type": "markdown",
      "metadata": {
        "id": "view-in-github",
        "colab_type": "text"
      },
      "source": [
        "<a href=\"https://colab.research.google.com/github/AliGhorbanibh1380/Exercise/blob/main/Benchmarking_Array_Addition_Methods_in_NumPy_Naive_vs_Vectorized_Approach.ipynb\" target=\"_parent\"><img src=\"https://colab.research.google.com/assets/colab-badge.svg\" alt=\"Open In Colab\"/></a>"
      ]
    },
    {
      "cell_type": "markdown",
      "source": [
        "#Imports\n",
        "Imports the NumPy library for numerical operations and the time library for timing operations."
      ],
      "metadata": {
        "id": "zJ3aI2luRIVG"
      }
    },
    {
      "cell_type": "code",
      "source": [
        "import numpy as np\n",
        "import time"
      ],
      "metadata": {
        "id": "6yxF3UbMRNxV"
      },
      "execution_count": 1,
      "outputs": []
    },
    {
      "cell_type": "markdown",
      "source": [
        "#Initialize Variables:"
      ],
      "metadata": {
        "id": "PZl-DYQjRPZV"
      }
    },
    {
      "cell_type": "code",
      "source": [
        "n = 10000000  # Size of the arrays\n",
        "a = np.random.rand(n)  # Create an array 'a' of 10 million random numbers\n",
        "b = np.random.rand(n)  # Create an array 'b' of 10 million random numbers\n",
        "c = np.zeros(n)  # Initialize an array 'c' to store results"
      ],
      "metadata": {
        "id": "jUDEby1nRTg6"
      },
      "execution_count": 2,
      "outputs": []
    },
    {
      "cell_type": "markdown",
      "source": [
        "#Naive Approach - Element-wise Addition in a Loop\n",
        "This loop iterates through each element of the arrays a and b, adding them together and storing the result in c.\n",
        "\n",
        "This approach is straightforward but inefficient for a large number of elements due to the overhead of the Python loop.\n"
      ],
      "metadata": {
        "id": "zrclOPBNRXe2"
      }
    },
    {
      "cell_type": "code",
      "source": [
        "tic = time.time()  # Start timing\n",
        "for i in range(n):\n",
        "    c[i] = a[i] + b[i]  # Loop through each element and add\n",
        "toc = time.time()  # End timing\n",
        "print('Naive version: %.4fs' % (toc - tic))  # Print execution time"
      ],
      "metadata": {
        "colab": {
          "base_uri": "https://localhost:8080/"
        },
        "id": "PYPbVt3JRgZJ",
        "outputId": "e163c32a-cf80-44e7-8f49-aa733243c9c2"
      },
      "execution_count": 3,
      "outputs": [
        {
          "output_type": "stream",
          "name": "stdout",
          "text": [
            "Naive version: 9.0809s\n"
          ]
        }
      ]
    },
    {
      "cell_type": "markdown",
      "source": [
        "#Vectorized Approach - Element-wise Addition Using NumPy\n",
        "NumPy is optimized for operations on arrays. It handles the addition in a single operation without the need for an explicit Python loop, which makes it significantly faster."
      ],
      "metadata": {
        "id": "v1zJIANjRifa"
      }
    },
    {
      "cell_type": "code",
      "source": [
        "tic = time.time()  # Start timing\n",
        "c = a + b  # Use NumPy's vectorized addition\n",
        "toc = time.time()  # End timing\n",
        "print('Vectorized version: %.4fs' % (toc - tic))  # Print execution time"
      ],
      "metadata": {
        "colab": {
          "base_uri": "https://localhost:8080/"
        },
        "id": "YWkCcf2oRoUB",
        "outputId": "60ddfc1f-700f-44eb-821c-fdca95de79bb"
      },
      "execution_count": 4,
      "outputs": [
        {
          "output_type": "stream",
          "name": "stdout",
          "text": [
            "Vectorized version: 0.0495s\n"
          ]
        }
      ]
    }
  ]
}